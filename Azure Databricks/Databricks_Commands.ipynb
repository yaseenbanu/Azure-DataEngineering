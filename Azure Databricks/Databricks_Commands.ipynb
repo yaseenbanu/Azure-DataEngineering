{
 "cells": [
  {
   "cell_type": "markdown",
   "metadata": {},
   "source": [
    "# To mount Azure Blob Storage in Databricks using DBFS"
   ]
  },
  {
   "cell_type": "code",
   "execution_count": null,
   "metadata": {
    "vscode": {
     "languageId": "shellscript"
    }
   },
   "outputs": [],
   "source": [
    "dbutils.fs.mount(\n",
    "  source = \"wasbs://<container-name>@<storage-account-name>.blob.core.windows.net\",\n",
    "  mount_point = \"/mnt/<mount-name>\",\n",
    "  extra_configs = {\"fs.azure.account.key.<storage-account-name>.blob.core.windows.net\": \"<storage-account-access-key>\"}\n",
    ")\n"
   ]
  },
  {
   "cell_type": "code",
   "execution_count": null,
   "metadata": {
    "vscode": {
     "languageId": "shellscript"
    }
   },
   "outputs": [],
   "source": [
    "databricks fs mount \\\n",
    "--source wasbs://<container-name>@<storage-account-name>.blob.core.windows.net/<path-to-your-file> \\\n",
    "--mount-point /mnt/<mount-name> \\\n",
    "--extra-configs \"fs.azure.account.key.<storage-account-name>.blob.core.windows.net=<your-storage-account-key>\"\n"
   ]
  }
 ],
 "metadata": {
  "language_info": {
   "name": "python"
  }
 },
 "nbformat": 4,
 "nbformat_minor": 2
}
